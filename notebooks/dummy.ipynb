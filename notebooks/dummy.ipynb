{
 "cells": [
  {
   "cell_type": "code",
   "execution_count": 1,
   "id": "c67064cb",
   "metadata": {},
   "outputs": [],
   "source": [
    "import numpy as np"
   ]
  },
  {
   "cell_type": "code",
   "execution_count": 57,
   "id": "9434c946",
   "metadata": {},
   "outputs": [],
   "source": [
    "x = np.logspace(np.log10(300), np.log10(60_000), num=9, endpoint=True)"
   ]
  },
  {
   "cell_type": "code",
   "execution_count": 58,
   "id": "1f29ff0a",
   "metadata": {},
   "outputs": [
    {
     "data": {
      "text/plain": [
       "60000"
      ]
     },
     "execution_count": 58,
     "metadata": {},
     "output_type": "execute_result"
    }
   ],
   "source": [
    "int(x[-1])"
   ]
  },
  {
   "cell_type": "code",
   "execution_count": 64,
   "id": "8b17a43f",
   "metadata": {},
   "outputs": [
    {
     "data": {
      "text/plain": [
       "array([  300.        ,   581.76823425,  1128.18092793,  2187.79942117,\n",
       "        4242.64068712,  8227.44527029, 15954.88769083, 30940.15613164,\n",
       "       60000.        ])"
      ]
     },
     "execution_count": 64,
     "metadata": {},
     "output_type": "execute_result"
    }
   ],
   "source": [
    "x "
   ]
  },
  {
   "cell_type": "code",
   "execution_count": 38,
   "id": "feaf13a4",
   "metadata": {},
   "outputs": [
    {
     "data": {
      "text/plain": [
       "(array([  100.,  2090.,  4080.,  6070.,  8060., 10050., 12040., 14030.,\n",
       "        16020., 18010., 20000.]),\n",
       " 11)"
      ]
     },
     "execution_count": 38,
     "metadata": {},
     "output_type": "execute_result"
    }
   ],
   "source": [
    "y = np.linspace(300, 60_000, num=11, endpoint=True)\n",
    "y/3, len(y)"
   ]
  },
  {
   "cell_type": "code",
   "execution_count": 6,
   "id": "9f4026d1",
   "metadata": {},
   "outputs": [
    {
     "name": "stdout",
     "output_type": "stream",
     "text": [
      "9\n"
     ]
    },
    {
     "data": {
      "text/plain": [
       "(array([  100,   193,   376,   729,  1414,  2742,  5318, 10313, 20000]),\n",
       " array([  100,   193,   376,   729,  1414,  2742,  5318, 10313, 20000]))"
      ]
     },
     "execution_count": 6,
     "metadata": {},
     "output_type": "execute_result"
    }
   ],
   "source": [
    "ns = np.logspace(np.log10(300), \n",
    "                 np.log10(60_000), \n",
    "                 num=9, \n",
    "                 endpoint=True).astype(int)\n",
    "tns = np.logspace(np.log10(100), \n",
    "                 np.log10(20_000), \n",
    "                 num=9, \n",
    "                 endpoint=True).astype(int)\n",
    "\n",
    "print(len(ns))\n",
    "\n",
    "ns//3, tns"
   ]
  }
 ],
 "metadata": {
  "kernelspec": {
   "display_name": "Python 3",
   "language": "python",
   "name": "python3"
  },
  "language_info": {
   "codemirror_mode": {
    "name": "ipython",
    "version": 3
   },
   "file_extension": ".py",
   "mimetype": "text/x-python",
   "name": "python",
   "nbconvert_exporter": "python",
   "pygments_lexer": "ipython3",
   "version": "3.12.4"
  }
 },
 "nbformat": 4,
 "nbformat_minor": 5
}
